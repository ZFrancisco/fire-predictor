{
  "nbformat": 4,
  "nbformat_minor": 0,
  "metadata": {
    "colab": {
      "provenance": [],
      "gpuType": "V28"
    },
    "kernelspec": {
      "name": "python3",
      "display_name": "Python 3"
    },
    "language_info": {
      "name": "python"
    },
    "accelerator": "TPU"
  },
  "cells": [
    {
      "cell_type": "code",
      "execution_count": 140,
      "metadata": {
        "id": "SjeXza23BHuq"
      },
      "outputs": [],
      "source": [
        "import pandas as pd\n",
        "import numpy as np\n",
        "import matplotlib.pyplot as plt\n",
        "import seaborn as sns\n",
        "import requests\n",
        "from io import StringIO\n",
        "import regex as re\n",
        "import json\n",
        "import os\n",
        "import math\n",
        "import random\n",
        "from datetime import datetime, timedelta\n",
        "import pickle\n",
        "historical_data_url = \"https://historical-forecast-api.open-meteo.com/v1/forecast\"\n",
        "MAP_KEY = \"85ad147fd1890d06e0e2db5bb9d95b57\"\n",
        "da_url = 'https://firms.modaps.eosdis.nasa.gov/api/country/csv/' + MAP_KEY + '/MODIS_NRT/USA/10/2025-1-19'"
      ]
    },
    {
      "cell_type": "code",
      "source": [
        "def param_generator(lat, long, year, month, day):\n",
        "    base_date = datetime(year, month, day)\n",
        "\n",
        "    end_date = base_date - timedelta(days=10)\n",
        "\n",
        "    start_date = base_date - timedelta(days=50)\n",
        "\n",
        "    start_date_str = start_date.strftime('%Y-%m-%d')\n",
        "    end_date_str = end_date.strftime('%Y-%m-%d')\n",
        "\n",
        "    return {\n",
        "        \"latitude\": lat,\n",
        "        \"longitude\": long,\n",
        "        \"daily\": [\"temperature_2m_max\", \"temperature_2m_min\",\n",
        "                  \"precipitation_sum\", \"rain_sum\", \"showers_sum\",\n",
        "                  \"snowfall_sum\", \"wind_speed_10m_max\", \"wind_gusts_10m_max\",\n",
        "                  \"et0_fao_evapotranspiration\"],\n",
        "        \"start_date\": start_date_str,\n",
        "        \"end_date\": end_date_str\n",
        "    }"
      ],
      "metadata": {
        "id": "ZP85e1Wsa-4R"
      },
      "execution_count": 141,
      "outputs": []
    },
    {
      "cell_type": "code",
      "source": [
        "def clean_weather(url, params):\n",
        "  data = requests.get(url, params);\n",
        "  clean = re.split(r'(?<=\\}),(?=\\{)', data.text)\n",
        "  cleaned_df = pd.DataFrame()\n",
        "  for coordinate_json in clean:\n",
        "      extract_cords = re.search(r'{\"latitude\":[\\d\\.-]+,\"longitude\":[\\d\\.-]+,',\n",
        "                                coordinate_json)\n",
        "      extract_output = re.search(r'\"daily\":{(.*})}', coordinate_json)\n",
        "      cleaned_df = pd.concat([cleaned_df, pd.read_json(\n",
        "          StringIO(extract_cords.group() + extract_output.group(1))\n",
        "          )\n",
        "      ])\n",
        "  divide_time = cleaned_df['time'].str.split(r'\\-')\n",
        "  cleaned_df['year'] = divide_time.str[0]\n",
        "  cleaned_df['month'] = divide_time.str[1]\n",
        "  cleaned_df['day'] = divide_time.str[2]\n",
        "  cleaned_df.drop(columns=['time'], inplace=True)\n",
        "  new_column_order = ['latitude', 'longitude', 'year', 'month', 'day',\n",
        "                      'temperature_2m_max', 'temperature_2m_min',\n",
        "                      'precipitation_sum', 'rain_sum', 'showers_sum',\n",
        "                      'snowfall_sum', 'wind_speed_10m_max', 'wind_gusts_10m_max',\n",
        "                      'et0_fao_evapotranspiration']\n",
        "  return cleaned_df[new_column_order]"
      ],
      "metadata": {
        "id": "tcL_kT7Sa87E"
      },
      "execution_count": 142,
      "outputs": []
    },
    {
      "cell_type": "code",
      "source": [
        "#@title to JSON func\n",
        "def to_fire_data(df):\n",
        "\n",
        "  json_data = df.to_dict(orient='records')\n",
        "\n",
        "  if os.path.exists(\"/content/negative_data.json\") and os.path.getsize(\"/content/negative_data.json\") > 0:\n",
        "    with open(\"/content/negative_data.json\", \"r\") as f:\n",
        "      try:\n",
        "        existing_data = json.load(f)\n",
        "      except json.JSONDecodeError:\n",
        "        existing_data = []\n",
        "  else:\n",
        "    existing_data = []\n",
        "\n",
        "  existing_data.extend(json_data)\n",
        "\n",
        "  with open(\"/content/negative_data.json\", \"w\") as f:\n",
        "    json.dump(existing_data, f)\n",
        "\n",
        "  return\n"
      ],
      "metadata": {
        "id": "9Qm0MIvQa04J"
      },
      "execution_count": 143,
      "outputs": []
    },
    {
      "cell_type": "code",
      "source": [
        "def get_data_fire():\n",
        "  # generate random year month date between the function of MODIS_SP satellite\n",
        "  rand_year = random.randint(2017, 2023)\n",
        "  rand_month = random.randint(1, 12)\n",
        "  rand_day = random.randint(1, 30)\n",
        "  #get fire data\n",
        "  nasa_url = 'https://firms.modaps.eosdis.nasa.gov/api/country/csv/' + MAP_KEY + '/MODIS_SP/USA/1/' + str(rand_year) + '-' + str(rand_month) + '-' + str(rand_day)\n",
        "  df = pd.read_csv(nasa_url)\n",
        "  df['latitude'] = np.round(df['latitude'], 2)\n",
        "  df['longitude']  = np.round(df['longitude'], 2)\n",
        "  df = (\n",
        "      df[df['confidence'] >= 80]\n",
        "      .set_index(['latitude', 'longitude'])\n",
        "      .index.unique()\n",
        "      )\n",
        "  fire_lat = [i[0] for i in df]\n",
        "  fire_long = [i[1] for i in df]\n",
        "  #get weather data\n",
        "  weather_data = clean_weather(historical_data_url, param_generator(fire_lat, fire_long, rand_year, rand_month, rand_day))\n",
        "  weather_data['fire'] = 1\n",
        "  #write to json\n",
        "  to_fire_data(weather_data)\n",
        "  return weather_data"
      ],
      "metadata": {
        "id": "YEStFX76iyhO"
      },
      "execution_count": 144,
      "outputs": []
    },
    {
      "cell_type": "markdown",
      "source": [
        "# WILDFIRE-API"
      ],
      "metadata": {
        "id": "R5___nlMNdYv"
      }
    },
    {
      "cell_type": "markdown",
      "source": [
        "# WEATHER-API"
      ],
      "metadata": {
        "id": "LOo-wLvJNjiW"
      }
    },
    {
      "cell_type": "markdown",
      "source": [],
      "metadata": {
        "id": "-iVSRP9q4JkX"
      }
    },
    {
      "cell_type": "markdown",
      "source": [
        "---------------------------------------------------"
      ],
      "metadata": {
        "id": "GZ9k89WEvJRc"
      }
    },
    {
      "cell_type": "markdown",
      "source": [
        "**WEATHER API ROUNDS TO TWO DECIMAL PLACES DESPITE HAVING PRECISION BEYOND THAT**"
      ],
      "metadata": {
        "id": "YCAelbowvBpP"
      }
    },
    {
      "cell_type": "markdown",
      "source": [
        "--------------------------------------------------------------------------------"
      ],
      "metadata": {
        "id": "BuNNKkA-vNF7"
      }
    },
    {
      "cell_type": "markdown",
      "source": [
        "# **Model Training**"
      ],
      "metadata": {
        "id": "CBkkhHF8X-Q4"
      }
    },
    {
      "cell_type": "code",
      "source": [
        "from sklearn.linear_model import LogisticRegression\n",
        "from sklearn.model_selection import train_test_split\n",
        "from sklearn.model_selection import GridSearchCV\n",
        "from sklearn.metrics import accuracy_score, roc_curve, confusion_matrix\n",
        "\n"
      ],
      "metadata": {
        "id": "yKW1qtGGYGld"
      },
      "execution_count": 145,
      "outputs": []
    },
    {
      "cell_type": "markdown",
      "source": [
        "\n",
        "***WHATS NEXT***\n",
        "*   Figure out design matrix, EDA\n",
        "*   Get more data for fire and nonfire cords\n",
        "* Train model\n",
        "* What is training acc?\n",
        "* Test model on unseen data\n",
        "* What is test acc?\n",
        "* AUC curve and fine tune\n",
        "\n",
        "\n"
      ],
      "metadata": {
        "id": "A2LqLxaBwFNI"
      }
    },
    {
      "cell_type": "code",
      "source": [
        "negative_df = pd.read_json('/content/negative_data.json')\n",
        "negative_df['fire'] = int(0)\n",
        "positive_df = pd.read_json('/content/positive_data.json')\n",
        "positive_df = positive_df[~positive_df['fire'].isna()]\n",
        "total_df = pd.concat([negative_df, positive_df])\n",
        "display(len(negative_df))\n",
        "display(len(positive_df))\n",
        "total_df = total_df[~total_df['temperature_2m_min'].isna()]\n"
      ],
      "metadata": {
        "colab": {
          "base_uri": "https://localhost:8080/",
          "height": 52
        },
        "id": "OBlYXaVyEfzy",
        "outputId": "f03d0bd4-6bf2-43c1-a017-9b5c8877fe25"
      },
      "execution_count": 146,
      "outputs": [
        {
          "output_type": "display_data",
          "data": {
            "text/plain": [
              "2870"
            ]
          },
          "metadata": {}
        },
        {
          "output_type": "display_data",
          "data": {
            "text/plain": [
              "4387"
            ]
          },
          "metadata": {}
        }
      ]
    },
    {
      "cell_type": "code",
      "source": [
        "sns.histplot(data=positive_df, x='temperature_2m_min', stat = 'density', kde=True)\n",
        "sns.histplot(data=negative_df, x='temperature_2m_min', stat = 'density', kde=True)\n",
        "plt.legend(['Fire', 'No Fire'])"
      ],
      "metadata": {
        "colab": {
          "base_uri": "https://localhost:8080/",
          "height": 467
        },
        "id": "zxeshWVGw1XJ",
        "outputId": "be7fb1d5-629b-484d-bf19-0a3d7a287c79"
      },
      "execution_count": 147,
      "outputs": [
        {
          "output_type": "execute_result",
          "data": {
            "text/plain": [
              "<matplotlib.legend.Legend at 0x7d8ae111ead0>"
            ]
          },
          "metadata": {},
          "execution_count": 147
        },
        {
          "output_type": "display_data",
          "data": {
            "text/plain": [
              "<Figure size 640x480 with 1 Axes>"
            ],
            "image/png": "[encoded data removed]"
          },
          "metadata": {}
        }
      ]
    },
    {
      "cell_type": "code",
      "source": [
        "total_df = total_df[~total_df['temperature_2m_min'].isna()]\n",
        "total_df = total_df.drop(columns=['latitude', 'longitude'])"
      ],
      "metadata": {
        "id": "EYJaTJAoH_qW"
      },
      "execution_count": 148,
      "outputs": []
    },
    {
      "cell_type": "code",
      "source": [
        "train_set, validation_set = train_test_split(total_df, test_size = 0.1, random_state = 42)"
      ],
      "metadata": {
        "id": "K7UHXZK4KIPP"
      },
      "execution_count": 149,
      "outputs": []
    },
    {
      "cell_type": "code",
      "source": [
        "display(len(train_set))\n",
        "len(validation_set)"
      ],
      "metadata": {
        "id": "gJbgPbdZM3dg",
        "colab": {
          "base_uri": "https://localhost:8080/",
          "height": 52
        },
        "outputId": "5f70fd25-2ced-4813-bda3-0358e83b9339"
      },
      "execution_count": 150,
      "outputs": [
        {
          "output_type": "display_data",
          "data": {
            "text/plain": [
              "6125"
            ]
          },
          "metadata": {}
        },
        {
          "output_type": "execute_result",
          "data": {
            "text/plain": [
              "681"
            ]
          },
          "metadata": {},
          "execution_count": 150
        }
      ]
    },
    {
      "cell_type": "code",
      "source": [
        "total_df.head(10)"
      ],
      "metadata": {
        "id": "FTFAvtS9M4vy",
        "colab": {
          "base_uri": "https://localhost:8080/",
          "height": 383
        },
        "outputId": "873c6386-292e-4470-b87e-c3d81eddd8c1"
      },
      "execution_count": 151,
      "outputs": [
        {
          "output_type": "execute_result",
          "data": {
            "text/plain": [
              "   year  month  day  temperature_2m_max  temperature_2m_min  \\\n",
              "0  2023      1    6                20.6                 2.8   \n",
              "1  2023      1    7                17.8                 2.9   \n",
              "2  2023      1    8                18.3                -1.8   \n",
              "3  2023      1    9                20.6                 0.9   \n",
              "4  2023      1   10                22.2                 2.8   \n",
              "5  2023      1   11                20.6                 6.4   \n",
              "6  2023      1   12                18.0                 1.5   \n",
              "7  2023      1   13                17.3                -2.8   \n",
              "8  2023      1   14                23.6                -1.6   \n",
              "9  2023      1   15                21.3                11.3   \n",
              "\n",
              "   precipitation_sum  rain_sum  showers_sum  snowfall_sum  wind_speed_10m_max  \\\n",
              "0                0.0       0.0          0.0           0.0                15.5   \n",
              "1                0.0       0.0          0.0           0.0                10.5   \n",
              "2                0.0       0.0          0.0           0.0                10.2   \n",
              "3                0.0       0.0          0.0           0.0                 8.9   \n",
              "4                0.0       0.0          0.0           0.0                16.2   \n",
              "5                0.0       0.0          0.0           0.0                31.1   \n",
              "6                0.0       0.0          0.0           0.0                16.0   \n",
              "7                0.0       0.0          0.0           0.0                11.9   \n",
              "8                0.0       0.0          0.0           0.0                29.5   \n",
              "9                0.0       0.0          0.0           0.0                57.9   \n",
              "\n",
              "   wind_gusts_10m_max  et0_fao_evapotranspiration  fire  \n",
              "0                26.3                        2.96     0  \n",
              "1                14.4                        2.51     0  \n",
              "2                12.2                        2.28     0  \n",
              "3                14.8                        2.42     0  \n",
              "4                25.2                        3.15     0  \n",
              "5                50.0                        4.57     0  \n",
              "6                34.9                        3.16     0  \n",
              "7                18.7                        2.99     0  \n",
              "8                43.9                        2.99     0  \n",
              "9                87.1                        5.31     0  "
            ],
            "text/html": [
              "\n",
              "  <div id=\"df-d22f4615-3f9c-40a0-bbf4-64b619682737\" class=\"colab-df-container\">\n",
              "    <div>\n",
              "<style scoped>\n",
              "    .dataframe tbody tr th:only-of-type {\n",
              "        vertical-align: middle;\n",
              "    }\n",
              "\n",
              "    .dataframe tbody tr th {\n",
              "        vertical-align: top;\n",
              "    }\n",
              "\n",
              "    .dataframe thead th {\n",
              "        text-align: right;\n",
              "    }\n",
              "</style>\n",
              "<table border=\"1\" class=\"dataframe\">\n",
              "  <thead>\n",
              "    <tr style=\"text-align: right;\">\n",
              "      <th></th>\n",
              "      <th>year</th>\n",
              "      <th>month</th>\n",
              "      <th>day</th>\n",
              "      <th>temperature_2m_max</th>\n",
              "      <th>temperature_2m_min</th>\n",
              "      <th>precipitation_sum</th>\n",
              "      <th>rain_sum</th>\n",
              "      <th>showers_sum</th>\n",
              "      <th>snowfall_sum</th>\n",
              "      <th>wind_speed_10m_max</th>\n",
              "      <th>wind_gusts_10m_max</th>\n",
              "      <th>et0_fao_evapotranspiration</th>\n",
              "      <th>fire</th>\n",
              "    </tr>\n",
              "  </thead>\n",
              "  <tbody>\n",
              "    <tr>\n",
              "      <th>0</th>\n",
              "      <td>2023</td>\n",
              "      <td>1</td>\n",
              "      <td>6</td>\n",
              "      <td>20.6</td>\n",
              "      <td>2.8</td>\n",
              "      <td>0.0</td>\n",
              "      <td>0.0</td>\n",
              "      <td>0.0</td>\n",
              "      <td>0.0</td>\n",
              "      <td>15.5</td>\n",
              "      <td>26.3</td>\n",
              "      <td>2.96</td>\n",
              "      <td>0</td>\n",
              "    </tr>\n",
              "    <tr>\n",
              "      <th>1</th>\n",
              "      <td>2023</td>\n",
              "      <td>1</td>\n",
              "      <td>7</td>\n",
              "      <td>17.8</td>\n",
              "      <td>2.9</td>\n",
              "      <td>0.0</td>\n",
              "      <td>0.0</td>\n",
              "      <td>0.0</td>\n",
              "      <td>0.0</td>\n",
              "      <td>10.5</td>\n",
              "      <td>14.4</td>\n",
              "      <td>2.51</td>\n",
              "      <td>0</td>\n",
              "    </tr>\n",
              "    <tr>\n",
              "      <th>2</th>\n",
              "      <td>2023</td>\n",
              "      <td>1</td>\n",
              "      <td>8</td>\n",
              "      <td>18.3</td>\n",
              "      <td>-1.8</td>\n",
              "      <td>0.0</td>\n",
              "      <td>0.0</td>\n",
              "      <td>0.0</td>\n",
              "      <td>0.0</td>\n",
              "      <td>10.2</td>\n",
              "      <td>12.2</td>\n",
              "      <td>2.28</td>\n",
              "      <td>0</td>\n",
              "    </tr>\n",
              "    <tr>\n",
              "      <th>3</th>\n",
              "      <td>2023</td>\n",
              "      <td>1</td>\n",
              "      <td>9</td>\n",
              "      <td>20.6</td>\n",
              "      <td>0.9</td>\n",
              "      <td>0.0</td>\n",
              "      <td>0.0</td>\n",
              "      <td>0.0</td>\n",
              "      <td>0.0</td>\n",
              "      <td>8.9</td>\n",
              "      <td>14.8</td>\n",
              "      <td>2.42</td>\n",
              "      <td>0</td>\n",
              "    </tr>\n",
              "    <tr>\n",
              "      <th>4</th>\n",
              "      <td>2023</td>\n",
              "      <td>1</td>\n",
              "      <td>10</td>\n",
              "      <td>22.2</td>\n",
              "      <td>2.8</td>\n",
              "      <td>0.0</td>\n",
              "      <td>0.0</td>\n",
              "      <td>0.0</td>\n",
              "      <td>0.0</td>\n",
              "      <td>16.2</td>\n",
              "      <td>25.2</td>\n",
              "      <td>3.15</td>\n",
              "      <td>0</td>\n",
              "    </tr>\n",
              "    <tr>\n",
              "      <th>5</th>\n",
              "      <td>2023</td>\n",
              "      <td>1</td>\n",
              "      <td>11</td>\n",
              "      <td>20.6</td>\n",
              "      <td>6.4</td>\n",
              "      <td>0.0</td>\n",
              "      <td>0.0</td>\n",
              "      <td>0.0</td>\n",
              "      <td>0.0</td>\n",
              "      <td>31.1</td>\n",
              "      <td>50.0</td>\n",
              "      <td>4.57</td>\n",
              "      <td>0</td>\n",
              "    </tr>\n",
              "    <tr>\n",
              "      <th>6</th>\n",
              "      <td>2023</td>\n",
              "      <td>1</td>\n",
              "      <td>12</td>\n",
              "      <td>18.0</td>\n",
              "      <td>1.5</td>\n",
              "      <td>0.0</td>\n",
              "      <td>0.0</td>\n",
              "      <td>0.0</td>\n",
              "      <td>0.0</td>\n",
              "      <td>16.0</td>\n",
              "      <td>34.9</td>\n",
              "      <td>3.16</td>\n",
              "      <td>0</td>\n",
              "    </tr>\n",
              "    <tr>\n",
              "      <th>7</th>\n",
              "      <td>2023</td>\n",
              "      <td>1</td>\n",
              "      <td>13</td>\n",
              "      <td>17.3</td>\n",
              "      <td>-2.8</td>\n",
              "      <td>0.0</td>\n",
              "      <td>0.0</td>\n",
              "      <td>0.0</td>\n",
              "      <td>0.0</td>\n",
              "      <td>11.9</td>\n",
              "      <td>18.7</td>\n",
              "      <td>2.99</td>\n",
              "      <td>0</td>\n",
              "    </tr>\n",
              "    <tr>\n",
              "      <th>8</th>\n",
              "      <td>2023</td>\n",
              "      <td>1</td>\n",
              "      <td>14</td>\n",
              "      <td>23.6</td>\n",
              "      <td>-1.6</td>\n",
              "      <td>0.0</td>\n",
              "      <td>0.0</td>\n",
              "      <td>0.0</td>\n",
              "      <td>0.0</td>\n",
              "      <td>29.5</td>\n",
              "      <td>43.9</td>\n",
              "      <td>2.99</td>\n",
              "      <td>0</td>\n",
              "    </tr>\n",
              "    <tr>\n",
              "      <th>9</th>\n",
              "      <td>2023</td>\n",
              "      <td>1</td>\n",
              "      <td>15</td>\n",
              "      <td>21.3</td>\n",
              "      <td>11.3</td>\n",
              "      <td>0.0</td>\n",
              "      <td>0.0</td>\n",
              "      <td>0.0</td>\n",
              "      <td>0.0</td>\n",
              "      <td>57.9</td>\n",
              "      <td>87.1</td>\n",
              "      <td>5.31</td>\n",
              "      <td>0</td>\n",
              "    </tr>\n",
              "  </tbody>\n",
              "</table>\n",
              "</div>\n",
              "    <div class=\"colab-df-buttons\">\n",
              "\n",
              "  <div class=\"colab-df-container\">\n",
              "    <button class=\"colab-df-convert\" onclick=\"convertToInteractive('df-d22f4615-3f9c-40a0-bbf4-64b619682737')\"\n",
              "            title=\"Convert this dataframe to an interactive table.\"\n",
              "            style=\"display:none;\">\n",
              "\n",
              "  <svg xmlns=\"http://www.w3.org/2000/svg\" height=\"24px\" viewBox=\"0 -960 960 960\">\n",
              "    <path d=\"M120-120v-720h720v720H120Zm60-500h600v-160H180v160Zm220 220h160v-160H400v160Zm0 220h160v-160H400v160ZM180-400h160v-160H180v160Zm440 0h160v-160H620v160ZM180-180h160v-160H180v160Zm440 0h160v-160H620v160Z\"/>\n",
              "  </svg>\n",
              "    </button>\n",
              "\n",
              "  <style>\n",
              "    .colab-df-container {\n",
              "      display:flex;\n",
              "      gap: 12px;\n",
              "    }\n",
              "\n",
              "    .colab-df-convert {\n",
              "      background-color: #E8F0FE;\n",
              "      border: none;\n",
              "      border-radius: 50%;\n",
              "      cursor: pointer;\n",
              "      display: none;\n",
              "      fill: #1967D2;\n",
              "      height: 32px;\n",
              "      padding: 0 0 0 0;\n",
              "      width: 32px;\n",
              "    }\n",
              "\n",
              "    .colab-df-convert:hover {\n",
              "      background-color: #E2EBFA;\n",
              "      box-shadow: 0px 1px 2px rgba(60, 64, 67, 0.3), 0px 1px 3px 1px rgba(60, 64, 67, 0.15);\n",
              "      fill: #174EA6;\n",
              "    }\n",
              "\n",
              "    .colab-df-buttons div {\n",
              "      margin-bottom: 4px;\n",
              "    }\n",
              "\n",
              "    [theme=dark] .colab-df-convert {\n",
              "      background-color: #3B4455;\n",
              "      fill: #D2E3FC;\n",
              "    }\n",
              "\n",
              "    [theme=dark] .colab-df-convert:hover {\n",
              "      background-color: #434B5C;\n",
              "      box-shadow: 0px 1px 3px 1px rgba(0, 0, 0, 0.15);\n",
              "      filter: drop-shadow(0px 1px 2px rgba(0, 0, 0, 0.3));\n",
              "      fill: #FFFFFF;\n",
              "    }\n",
              "  </style>\n",
              "\n",
              "    <script>\n",
              "      const buttonEl =\n",
              "        document.querySelector('#df-d22f4615-3f9c-40a0-bbf4-64b619682737 button.colab-df-convert');\n",
              "      buttonEl.style.display =\n",
              "        google.colab.kernel.accessAllowed ? 'block' : 'none';\n",
              "\n",
              "      async function convertToInteractive(key) {\n",
              "        const element = document.querySelector('#df-d22f4615-3f9c-40a0-bbf4-64b619682737');\n",
              "        const dataTable =\n",
              "          await google.colab.kernel.invokeFunction('convertToInteractive',\n",
              "                                                    [key], {});\n",
              "        if (!dataTable) return;\n",
              "\n",
              "        const docLinkHtml = 'Like what you see? Visit the ' +\n",
              "          '<a target=\"_blank\" href=https://colab.research.google.com/notebooks/data_table.ipynb>data table notebook</a>'\n",
              "          + ' to learn more about interactive tables.';\n",
              "        element.innerHTML = '';\n",
              "        dataTable['output_type'] = 'display_data';\n",
              "        await google.colab.output.renderOutput(dataTable, element);\n",
              "        const docLink = document.createElement('div');\n",
              "        docLink.innerHTML = docLinkHtml;\n",
              "        element.appendChild(docLink);\n",
              "      }\n",
              "    </script>\n",
              "  </div>\n",
              "\n",
              "\n",
              "<div id=\"df-169413d9-7a76-4f36-969c-dd598cb57e5a\">\n",
              "  <button class=\"colab-df-quickchart\" onclick=\"quickchart('df-169413d9-7a76-4f36-969c-dd598cb57e5a')\"\n",
              "            title=\"Suggest charts\"\n",
              "            style=\"display:none;\">\n",
              "\n",
              "<svg xmlns=\"http://www.w3.org/2000/svg\" height=\"24px\"viewBox=\"0 0 24 24\"\n",
              "     width=\"24px\">\n",
              "    <g>\n",
              "        <path d=\"M19 3H5c-1.1 0-2 .9-2 2v14c0 1.1.9 2 2 2h14c1.1 0 2-.9 2-2V5c0-1.1-.9-2-2-2zM9 17H7v-7h2v7zm4 0h-2V7h2v10zm4 0h-2v-4h2v4z\"/>\n",
              "    </g>\n",
              "</svg>\n",
              "  </button>\n",
              "\n",
              "<style>\n",
              "  .colab-df-quickchart {\n",
              "      --bg-color: #E8F0FE;\n",
              "      --fill-color: #1967D2;\n",
              "      --hover-bg-color: #E2EBFA;\n",
              "      --hover-fill-color: #174EA6;\n",
              "      --disabled-fill-color: #AAA;\n",
              "      --disabled-bg-color: #DDD;\n",
              "  }\n",
              "\n",
              "  [theme=dark] .colab-df-quickchart {\n",
              "      --bg-color: #3B4455;\n",
              "      --fill-color: #D2E3FC;\n",
              "      --hover-bg-color: #434B5C;\n",
              "      --hover-fill-color: #FFFFFF;\n",
              "      --disabled-bg-color: #3B4455;\n",
              "      --disabled-fill-color: #666;\n",
              "  }\n",
              "\n",
              "  .colab-df-quickchart {\n",
              "    background-color: var(--bg-color);\n",
              "    border: none;\n",
              "    border-radius: 50%;\n",
              "    cursor: pointer;\n",
              "    display: none;\n",
              "    fill: var(--fill-color);\n",
              "    height: 32px;\n",
              "    padding: 0;\n",
              "    width: 32px;\n",
              "  }\n",
              "\n",
              "  .colab-df-quickchart:hover {\n",
              "    background-color: var(--hover-bg-color);\n",
              "    box-shadow: 0 1px 2px rgba(60, 64, 67, 0.3), 0 1px 3px 1px rgba(60, 64, 67, 0.15);\n",
              "    fill: var(--button-hover-fill-color);\n",
              "  }\n",
              "\n",
              "  .colab-df-quickchart-complete:disabled,\n",
              "  .colab-df-quickchart-complete:disabled:hover {\n",
              "    background-color: var(--disabled-bg-color);\n",
              "    fill: var(--disabled-fill-color);\n",
              "    box-shadow: none;\n",
              "  }\n",
              "\n",
              "  .colab-df-spinner {\n",
              "    border: 2px solid var(--fill-color);\n",
              "    border-color: transparent;\n",
              "    border-bottom-color: var(--fill-color);\n",
              "    animation:\n",
              "      spin 1s steps(1) infinite;\n",
              "  }\n",
              "\n",
              "  @keyframes spin {\n",
              "    0% {\n",
              "      border-color: transparent;\n",
              "      border-bottom-color: var(--fill-color);\n",
              "      border-left-color: var(--fill-color);\n",
              "    }\n",
              "    20% {\n",
              "      border-color: transparent;\n",
              "      border-left-color: var(--fill-color);\n",
              "      border-top-color: var(--fill-color);\n",
              "    }\n",
              "    30% {\n",
              "      border-color: transparent;\n",
              "      border-left-color: var(--fill-color);\n",
              "      border-top-color: var(--fill-color);\n",
              "      border-right-color: var(--fill-color);\n",
              "    }\n",
              "    40% {\n",
              "      border-color: transparent;\n",
              "      border-right-color: var(--fill-color);\n",
              "      border-top-color: var(--fill-color);\n",
              "    }\n",
              "    60% {\n",
              "      border-color: transparent;\n",
              "      border-right-color: var(--fill-color);\n",
              "    }\n",
              "    80% {\n",
              "      border-color: transparent;\n",
              "      border-right-color: var(--fill-color);\n",
              "      border-bottom-color: var(--fill-color);\n",
              "    }\n",
              "    90% {\n",
              "      border-color: transparent;\n",
              "      border-bottom-color: var(--fill-color);\n",
              "    }\n",
              "  }\n",
              "</style>\n",
              "\n",
              "  <script>\n",
              "    async function quickchart(key) {\n",
              "      const quickchartButtonEl =\n",
              "        document.querySelector('#' + key + ' button');\n",
              "      quickchartButtonEl.disabled = true;  // To prevent multiple clicks.\n",
              "      quickchartButtonEl.classList.add('colab-df-spinner');\n",
              "      try {\n",
              "        const charts = await google.colab.kernel.invokeFunction(\n",
              "            'suggestCharts', [key], {});\n",
              "      } catch (error) {\n",
              "        console.error('Error during call to suggestCharts:', error);\n",
              "      }\n",
              "      quickchartButtonEl.classList.remove('colab-df-spinner');\n",
              "      quickchartButtonEl.classList.add('colab-df-quickchart-complete');\n",
              "    }\n",
              "    (() => {\n",
              "      let quickchartButtonEl =\n",
              "        document.querySelector('#df-169413d9-7a76-4f36-969c-dd598cb57e5a button');\n",
              "      quickchartButtonEl.style.display =\n",
              "        google.colab.kernel.accessAllowed ? 'block' : 'none';\n",
              "    })();\n",
              "  </script>\n",
              "</div>\n",
              "\n",
              "    </div>\n",
              "  </div>\n"
            ],
            "application/vnd.google.colaboratory.intrinsic+json": {
              "type": "dataframe",
              "variable_name": "total_df",
              "summary": "{\n  \"name\": \"total_df\",\n  \"rows\": 6806,\n  \"fields\": [\n    {\n      \"column\": \"year\",\n      \"properties\": {\n        \"dtype\": \"number\",\n        \"std\": 1,\n        \"min\": 2018,\n        \"max\": 2023,\n        \"num_unique_values\": 6,\n        \"samples\": [\n          2023,\n          2018,\n          2021\n        ],\n        \"semantic_type\": \"\",\n        \"description\": \"\"\n      }\n    },\n    {\n      \"column\": \"month\",\n      \"properties\": {\n        \"dtype\": \"number\",\n        \"std\": 2,\n        \"min\": 1,\n        \"max\": 12,\n        \"num_unique_values\": 12,\n        \"samples\": [\n          3,\n          5,\n          1\n        ],\n        \"semantic_type\": \"\",\n        \"description\": \"\"\n      }\n    },\n    {\n      \"column\": \"day\",\n      \"properties\": {\n        \"dtype\": \"number\",\n        \"std\": 8,\n        \"min\": 1,\n        \"max\": 31,\n        \"num_unique_values\": 31,\n        \"samples\": [\n          2,\n          21,\n          29\n        ],\n        \"semantic_type\": \"\",\n        \"description\": \"\"\n      }\n    },\n    {\n      \"column\": \"temperature_2m_max\",\n      \"properties\": {\n        \"dtype\": \"number\",\n        \"std\": 9.724381977952742,\n        \"min\": -24.4,\n        \"max\": 41.6,\n        \"num_unique_values\": 529,\n        \"samples\": [\n          36.0,\n          10.1,\n          23.6\n        ],\n        \"semantic_type\": \"\",\n        \"description\": \"\"\n      }\n    },\n    {\n      \"column\": \"temperature_2m_min\",\n      \"properties\": {\n        \"dtype\": \"number\",\n        \"std\": 9.790557688891548,\n        \"min\": -35.3,\n        \"max\": 31.1,\n        \"num_unique_values\": 530,\n        \"samples\": [\n          21.5,\n          12.2,\n          -2.8\n        ],\n        \"semantic_type\": \"\",\n        \"description\": \"\"\n      }\n    },\n    {\n      \"column\": \"precipitation_sum\",\n      \"properties\": {\n        \"dtype\": \"number\",\n        \"std\": 9.745948181567515,\n        \"min\": 0.0,\n        \"max\": 412.5,\n        \"num_unique_values\": 233,\n        \"samples\": [\n          1.5,\n          6.0,\n          17.2\n        ],\n        \"semantic_type\": \"\",\n        \"description\": \"\"\n      }\n    },\n    {\n      \"column\": \"rain_sum\",\n      \"properties\": {\n        \"dtype\": \"number\",\n        \"std\": 9.635030895447999,\n        \"min\": 0.0,\n        \"max\": 412.5,\n        \"num_unique_values\": 208,\n        \"samples\": [\n          32.9,\n          286.3,\n          33.6\n        ],\n        \"semantic_type\": \"\",\n        \"description\": \"\"\n      }\n    },\n    {\n      \"column\": \"showers_sum\",\n      \"properties\": {\n        \"dtype\": \"number\",\n        \"std\": 0.17552225289817508,\n        \"min\": 0.0,\n        \"max\": 5.6,\n        \"num_unique_values\": 20,\n        \"samples\": [\n          0.0,\n          0.8,\n          4.8\n        ],\n        \"semantic_type\": \"\",\n        \"description\": \"\"\n      }\n    },\n    {\n      \"column\": \"snowfall_sum\",\n      \"properties\": {\n        \"dtype\": \"number\",\n        \"std\": 0.7613070928900634,\n        \"min\": 0.0,\n        \"max\": 36.4,\n        \"num_unique_values\": 75,\n        \"samples\": [\n          0.49,\n          9.52,\n          1.26\n        ],\n        \"semantic_type\": \"\",\n        \"description\": \"\"\n      }\n    },\n    {\n      \"column\": \"wind_speed_10m_max\",\n      \"properties\": {\n        \"dtype\": \"number\",\n        \"std\": 9.328346968923054,\n        \"min\": 4.3,\n        \"max\": 86.3,\n        \"num_unique_values\": 467,\n        \"samples\": [\n          24.0,\n          24.9,\n          26.0\n        ],\n        \"semantic_type\": \"\",\n        \"description\": \"\"\n      }\n    },\n    {\n      \"column\": \"wind_gusts_10m_max\",\n      \"properties\": {\n        \"dtype\": \"number\",\n        \"std\": 14.704806138309314,\n        \"min\": 5.0,\n        \"max\": 125.6,\n        \"num_unique_values\": 234,\n        \"samples\": [\n          66.2,\n          80.3,\n          69.5\n        ],\n        \"semantic_type\": \"\",\n        \"description\": \"\"\n      }\n    },\n    {\n      \"column\": \"et0_fao_evapotranspiration\",\n      \"properties\": {\n        \"dtype\": \"number\",\n        \"std\": 1.5971591523065725,\n        \"min\": 0.13,\n        \"max\": 11.56,\n        \"num_unique_values\": 778,\n        \"samples\": [\n          7.55,\n          8.61,\n          5.8100000000000005\n        ],\n        \"semantic_type\": \"\",\n        \"description\": \"\"\n      }\n    },\n    {\n      \"column\": \"fire\",\n      \"properties\": {\n        \"dtype\": \"number\",\n        \"std\": 0,\n        \"min\": 0,\n        \"max\": 1,\n        \"num_unique_values\": 2,\n        \"samples\": [\n          1,\n          0\n        ],\n        \"semantic_type\": \"\",\n        \"description\": \"\"\n      }\n    }\n  ]\n}"
            }
          },
          "metadata": {},
          "execution_count": 151
        }
      ]
    },
    {
      "cell_type": "code",
      "source": [
        "len(train_set[train_set['fire'].isna()])"
      ],
      "metadata": {
        "id": "mmkrDsUDNuhV",
        "colab": {
          "base_uri": "https://localhost:8080/"
        },
        "outputId": "dcf413ed-032d-45ab-f2b2-ee3847a33eff"
      },
      "execution_count": 152,
      "outputs": [
        {
          "output_type": "execute_result",
          "data": {
            "text/plain": [
              "0"
            ]
          },
          "metadata": {},
          "execution_count": 152
        }
      ]
    },
    {
      "cell_type": "code",
      "source": [
        "first_model = LogisticRegression()\n",
        "first_model.fit(train_set.drop(columns=['fire']), train_set['fire'])\n",
        "train_acc = first_model.score(train_set.drop(columns=['fire']), train_set['fire'])\n",
        "print(f'Training Accuracy: {train_acc}')\n",
        "validation_acc = first_model.score(validation_set.drop(columns=['fire']), validation_set['fire'])\n",
        "print(f'Validation Accuracy: {validation_acc}')"
      ],
      "metadata": {
        "id": "2r_FeYQXNOT5",
        "colab": {
          "base_uri": "https://localhost:8080/"
        },
        "outputId": "9b4b4e4a-54dc-438f-ebc5-740c8523b265"
      },
      "execution_count": 153,
      "outputs": [
        {
          "output_type": "stream",
          "name": "stdout",
          "text": [
            "Training Accuracy: 0.888\n",
            "Validation Accuracy: 0.8883994126284875\n"
          ]
        },
        {
          "output_type": "stream",
          "name": "stderr",
          "text": [
            "/usr/local/lib/python3.11/dist-packages/sklearn/linear_model/_logistic.py:465: ConvergenceWarning: lbfgs failed to converge (status=1):\n",
            "STOP: TOTAL NO. of ITERATIONS REACHED LIMIT.\n",
            "\n",
            "Increase the number of iterations (max_iter) or scale the data as shown in:\n",
            "    https://scikit-learn.org/stable/modules/preprocessing.html\n",
            "Please also refer to the documentation for alternative solver options:\n",
            "    https://scikit-learn.org/stable/modules/linear_model.html#logistic-regression\n",
            "  n_iter_i = _check_optimize_result(\n"
          ]
        }
      ]
    },
    {
      "cell_type": "code",
      "source": [
        "y_probabilities = first_model.predict_proba(train_set.drop(columns=['fire']))[:,1]\n",
        "fpr, tpr, thresholds = roc_curve(train_set['fire'], y_probabilities)\n",
        "plt.plot(fpr, tpr)\n",
        "plt.xlabel('FPR')\n",
        "plt.ylabel('TPR')\n",
        "plt.title(\"ROC Curve \")"
      ],
      "metadata": {
        "id": "v-JhXaLNO1kf",
        "colab": {
          "base_uri": "https://localhost:8080/",
          "height": 489
        },
        "outputId": "b896d0b3-e01f-423c-e6bf-1807048b37f1"
      },
      "execution_count": 154,
      "outputs": [
        {
          "output_type": "execute_result",
          "data": {
            "text/plain": [
              "Text(0.5, 1.0, 'ROC Curve ')"
            ]
          },
          "metadata": {},
          "execution_count": 154
        },
        {
          "output_type": "display_data",
          "data": {
            "text/plain": [
              "<Figure size 640x480 with 1 Axes>"
            ],
            "image/png": "[encoded data removed]"
          },
          "metadata": {}
        }
      ]
    },
    {
      "cell_type": "code",
      "source": [
        "with open('fire_pred_model_export.pkl', 'wb') as f:\n",
        "    pickle.dump(first_model, f)"
      ],
      "metadata": {
        "id": "AOj3i9MV_zH8"
      },
      "execution_count": 155,
      "outputs": []
    },
    {
      "cell_type": "code",
      "source": [],
      "metadata": {
        "id": "6Tb39v80JaI9"
      },
      "execution_count": null,
      "outputs": []
    }
  ]
}